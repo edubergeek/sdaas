{
 "cells": [
  {
   "cell_type": "code",
   "execution_count": 1,
   "id": "eb173361",
   "metadata": {},
   "outputs": [],
   "source": [
    "import time\n",
    "import asyncio\n",
    "from SDaaSClient import SDaaSClient"
   ]
  },
  {
   "cell_type": "code",
   "execution_count": 2,
   "id": "ed5d38cf",
   "metadata": {},
   "outputs": [],
   "source": [
    "IS_JUPYTER = True"
   ]
  },
  {
   "cell_type": "code",
   "execution_count": 3,
   "id": "8e5dc968",
   "metadata": {},
   "outputs": [],
   "source": [
    "if not IS_JUPYTER:\n",
    "  start_time = time.time()\n",
    "\n",
    "  worker1 = SDaaSClient(\"Datasets\")\n",
    "  worker2 = SDaaSClient(\"ATLAS_DR1\")\n",
    "\n",
    "  # Create tasks to run the asynchronous methods concurrently\n",
    "  task1 = asyncio.create_task(worker1.GetDatasets())\n",
    "  task2 = asyncio.create_task(worker2.GetDataset('ATLAS_DR1'))\n",
    "\n",
    "  tasks = [task1, task2]\n",
    "\n",
    "  # Await the completion of all tasks\n",
    "  asyncio.gather(tasks)\n",
    "    \n",
    "  result1 = await task1\n",
    "  result2 = await task2\n",
    "\n",
    "  print(f\"Main: Received {result1}\")\n",
    "  print(f\"Main: Received {result2}\")\n",
    "\n",
    "  end_time = time.time()\n",
    "  print(f\"Total execution time: {end_time - start_time:.2f} seconds\")"
   ]
  },
  {
   "cell_type": "code",
   "execution_count": 4,
   "id": "5a6a730d",
   "metadata": {
    "lines_to_next_cell": 0
   },
   "outputs": [
    {
     "name": "stdout",
     "output_type": "stream",
     "text": [
      "Task iterator: Received {'response': [{'id': 'ATLAS_DR1', 'name': 'ATLAS Variable Light Curves'}, {'id': 'HINODE_SOT_SP', 'name': 'Hinode SOT SP'}], 'status': 0}\n",
      "Task iterator: Received {'response': {'name': 'ATLAS Variable Light Curves', 'contact': 'Curt Dodds', 'email': 'dodds@hawaii.edu', 'publication': 'A First Catalog of Variable Stars Measured by ATLAS', 'citation': 'A. N. Heinze et al 2018 AJ 156 241', 'url': 'https://iopscience.iop.org/article/10.3847/1538-3881/aae47f', 'doi': '10.17909/T9H98D', 'namespace': 'UHIFA', 'origin': 'IFA_ITC_ORIGIN', 'files': 285, 'mean_file_size': 792.338216, 'file_size_units': 'MB', 'volume': 29, 'volume_units': 'GB', 'path': '/atlas/dr1', 'extension': 'csv'}, 'status': 0}\n"
     ]
    }
   ],
   "source": [
    "worker1 = SDaaSClient(\"Datasets\")\n",
    "worker2 = SDaaSClient(\"ATLAS_DR1\")\n",
    "\n",
    "# Create tasks to run the asynchronous methods concurrently\n",
    "task1 = asyncio.create_task(worker1.GetDatasets())\n",
    "task2 = asyncio.create_task(worker2.GetDataset('ATLAS_DR1'))\n",
    "\n",
    "\n",
    "tasks = [task1, task2]\n",
    "\n",
    "for completed_task in asyncio.as_completed(tasks):\n",
    "  response = await completed_task\n",
    "  print(f\"Task iterator: Received {response}\")"
   ]
  },
  {
   "cell_type": "code",
   "execution_count": 5,
   "id": "296bf729",
   "metadata": {},
   "outputs": [
    {
     "name": "stdout",
     "output_type": "stream",
     "text": [
      "Task iterator: Received {'response': {'name': 'ATLAS Variable Light Curves', 'contact': 'Curt Dodds', 'email': 'dodds@hawaii.edu', 'publication': 'A First Catalog of Variable Stars Measured by ATLAS', 'citation': 'A. N. Heinze et al 2018 AJ 156 241', 'url': 'https://iopscience.iop.org/article/10.3847/1538-3881/aae47f', 'doi': '10.17909/T9H98D', 'namespace': 'UHIFA', 'origin': 'IFA_ITC_ORIGIN', 'files': 285, 'mean_file_size': 792.338216, 'file_size_units': 'MB', 'volume': 29, 'volume_units': 'GB', 'path': '/atlas/dr1', 'extension': 'csv'}, 'status': 0}\n",
      "Task iterator: Received {'response': {'name': '', 'param': ['dec_from', 'dec_upto', 'ATO_ID', 'starID', 'ra', 'dec', 'CLASS', 'gmag', 'rmag', 'imag', 'zmag', 'ymag', 'prob_CBF', 'prob_CBH', 'prob_DBF', 'prob_DBH', 'prob_HARD', 'prob_MIRA', 'prob_MPULSE', 'prob_MSINE', 'prob_NSINE', 'prob_PULSE', 'prob_SINE', 'prob_IRR', 'prob_LPV', 'prob_dubious', 'fp_period', 'ls_Pday', 'fp_LSperiod', 'fp_lngfitper', 'vf_c_med', 'vf_o_med', 'mjd', 'dra', 'ddec', 'filter', 'm', 'dm']}, 'status': 0}\n"
     ]
    }
   ],
   "source": [
    "worker1 = SDaaSClient(\"ATLAS_DR1\")\n",
    "worker2 = SDaaSClient(\"ATLAS_DR1\")\n",
    "\n",
    "# Create tasks to run the asynchronous methods concurrently\n",
    "task1 = asyncio.create_task(worker1.GetDataset('ATLAS_DR1'))\n",
    "task2 = asyncio.create_task(worker2.GetFilter('ATLAS_DR1'))\n",
    "\n",
    "tasks = [task1, task2]\n",
    "\n",
    "for completed_task in asyncio.as_completed(tasks):\n",
    "  response = await completed_task\n",
    "  print(f\"Task iterator: Received {response}\")"
   ]
  },
  {
   "cell_type": "code",
   "execution_count": 10,
   "id": "44374dc2",
   "metadata": {},
   "outputs": [],
   "source": [
    "worker = SDaaSClient(\"HINODE_SOT_SP\")\n",
    "#task = asyncio.create_task(worker.GetFilterParameters('ATLAS_DR1'))\n",
    "task = asyncio.create_task(worker.GetDataset('HINODE_SOT_SP'))\n",
    "response = await task\n"
   ]
  },
  {
   "cell_type": "code",
   "execution_count": null,
   "id": "8249fada",
   "metadata": {},
   "outputs": [],
   "source": []
  }
 ],
 "metadata": {
  "jupytext": {
   "cell_metadata_filter": "-all",
   "main_language": "python",
   "notebook_metadata_filter": "-all"
  },
  "kernelspec": {
   "display_name": "Python 3 (ipykernel)",
   "language": "python",
   "name": "python3"
  },
  "language_info": {
   "codemirror_mode": {
    "name": "ipython",
    "version": 3
   },
   "file_extension": ".py",
   "mimetype": "text/x-python",
   "name": "python",
   "nbconvert_exporter": "python",
   "pygments_lexer": "ipython3",
   "version": "3.10.12"
  }
 },
 "nbformat": 4,
 "nbformat_minor": 5
}
